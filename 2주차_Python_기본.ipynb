{
  "cells": [
    {
      "cell_type": "markdown",
      "metadata": {
        "id": "view-in-github",
        "colab_type": "text"
      },
      "source": [
        "<a href=\"https://colab.research.google.com/github/donlee4u/ML_Class/blob/main/2%EC%A3%BC%EC%B0%A8_Python_%EA%B8%B0%EB%B3%B8.ipynb\" target=\"_parent\"><img src=\"https://colab.research.google.com/assets/colab-badge.svg\" alt=\"Open In Colab\"/></a>"
      ]
    },
    {
      "cell_type": "markdown",
      "source": [
        "# Python\n",
        "# Reference : Lecture at Stanford University\n",
        "#             https://cs231n.github.io/python-numpy-tutorial/"
      ],
      "metadata": {
        "id": "byoqWgLxg7V1"
      }
    },
    {
      "cell_type": "code",
      "source": [
        "!python --version"
      ],
      "metadata": {
        "id": "AyPAgAgNZhSp"
      },
      "execution_count": null,
      "outputs": []
    },
    {
      "cell_type": "code",
      "source": [
        "ls"
      ],
      "metadata": {
        "id": "PUN38MC3JAmF"
      },
      "execution_count": null,
      "outputs": []
    },
    {
      "cell_type": "code",
      "source": [
        "print(\"Hi TUKorea\")"
      ],
      "metadata": {
        "id": "tUN5iy-SjHbP"
      },
      "execution_count": null,
      "outputs": []
    },
    {
      "cell_type": "markdown",
      "source": [
        "# **Variable types**\n"
      ],
      "metadata": {
        "id": "J3srJTvAzDfU"
      }
    },
    {
      "cell_type": "markdown",
      "metadata": {
        "id": "HQjCMPDpYw2g"
      },
      "source": [
        "## 1. Number : integer, float\n",
        "\n"
      ]
    },
    {
      "cell_type": "code",
      "source": [
        "x = 3\n",
        "print(x)       # Prints \"3\"\n",
        "print(type(x)) # Prints \"<class 'int'>\"\n",
        "print(x + 1)   # Addition; prints \"4\"\n",
        "print(x - 1)   # Subtraction; prints \"2\"\n",
        "print(x * 2)   # Multiplication; prints \"6\"\n",
        "print(x ** 2)  # Exponentiation; prints \"9\"\n",
        "x += 1\n",
        "print(x)  # Prints \"4\"\n",
        "x *= 2\n",
        "print(x)  # Prints \"8\"\n",
        "y = 2.5\n",
        "print(type(y)) # Prints \"<class 'float'>\"\n",
        "print(y, y + 1, y * 2, y ** 2) # Prints \"2.5 3.5 5.0 6.25\""
      ],
      "metadata": {
        "id": "JXrLjg2VmZVw"
      },
      "execution_count": null,
      "outputs": []
    },
    {
      "cell_type": "code",
      "source": [
        "x = 3\n",
        "print(x)"
      ],
      "metadata": {
        "id": "xEiqBde2OycD"
      },
      "execution_count": null,
      "outputs": []
    },
    {
      "cell_type": "markdown",
      "metadata": {
        "id": "OtF6GdeoYeIp"
      },
      "source": [
        "## 2. Booleans : True, False"
      ]
    },
    {
      "cell_type": "code",
      "execution_count": null,
      "metadata": {
        "id": "3ZxvhZG4XbG4",
        "colab": {
          "base_uri": "https://localhost:8080/"
        },
        "outputId": "9029b5d7-6884-43b6-86b9-b4d36de625a1"
      },
      "outputs": [
        {
          "output_type": "stream",
          "name": "stdout",
          "text": [
            "<class 'bool'>\n",
            "<class 'bool'>\n",
            "False\n",
            "True\n",
            "False\n",
            "True\n"
          ]
        }
      ],
      "source": [
        "t = True   # T is upper case\n",
        "f = False  # F is upper case\n",
        "print(type(t)) # Prints \"<class 'bool'>\"\n",
        "print (type(f)) # Prints \"<class 'bool'>\"\n",
        "print(t and f) # Logical AND; prints \"False\"\n",
        "print(t or f)  # Logical OR; prints \"True\"\n",
        "print(not t)   # Logical NOT; prints \"False\"\n",
        "print(t != f)  # Logical XOR; prints \"True\""
      ]
    },
    {
      "cell_type": "markdown",
      "metadata": {
        "id": "3ucuFeFTbcWh"
      },
      "source": [
        "## 3. String"
      ]
    },
    {
      "cell_type": "code",
      "execution_count": null,
      "metadata": {
        "id": "Sl-H3eq2bRIh"
      },
      "outputs": [],
      "source": [
        "t1 = 'Hi TUK'  # String literals can use single quotes\n",
        "t2 = \"Tech University Korea\"  # or double quotes; it does not matter.\n",
        "print(type(t1)) # class <str>\n",
        "print (t1) # Hi TUK\n",
        "\n",
        "# we can access string character using index in Python!\n",
        "print (t1[1]) # i\n",
        "print (t2[2]) # c\n",
        "print (t2[0:3]) # Slicing, prints \"Tec\"\n",
        "print (t2[:4]) # Tech\n",
        "print (t2[2:]) #  University Korea\n",
        "\n",
        "# Length of the string\n",
        "print (len(t1)) # String length; prints \"6\"\n",
        "print (len(t2)) # String length; prints \"21\"\n",
        "\n",
        "# string concatenation\n",
        "s = t1 + '-' + t2  # Hi TUK-Tech University Korea\n",
        "print(s)"
      ]
    },
    {
      "cell_type": "code",
      "source": [
        "# print string with the value of variables together!\n",
        "# %s: str,  %d: int, %f: float\n",
        "t1 = 'Hi!'\n",
        "t2 = \"TUKOREA\"\n",
        "x1 = '%s  %s %d' %(t1, t2, 2025) # method 1\n",
        "print(x1)\n",
        "\n",
        "x2 = f'{t1}  {t2} {2025}' # method 2 (\"f-string\" for python 3.6)\n",
        "print(x2)\n",
        "\n",
        "x3 = '{}  {} {}'.format(t1, t2, 2025) # method 3 (\".format\" method)\n",
        "print(x3)"
      ],
      "metadata": {
        "id": "2R3no1D51pXH",
        "colab": {
          "base_uri": "https://localhost:8080/"
        },
        "outputId": "c0e1850a-da09-4c47-baf3-84cf323e6a9b"
      },
      "execution_count": null,
      "outputs": [
        {
          "output_type": "stream",
          "name": "stdout",
          "text": [
            "Hi!  TUKOREA 2025\n",
            "Hi!  TUKOREA 2025\n",
            "Hi!  TUKOREA 2025\n"
          ]
        }
      ]
    },
    {
      "cell_type": "code",
      "source": [
        "s = \"TUKOREA\"\n",
        "print(s.capitalize())  # Capitalize a string; prints \"Tukorea\"\n",
        "print(s.upper())       # Convert a string to uppercase; prints \"TUKOREA\"\n",
        "print(s.rjust(10))     # Right-justify a string, padding with spaces; prints \"   TUKOREA\"\n",
        "print(s.center(10))    # Center a string, padding with spaces; prints \"  TUKOREA \"\n",
        "# Replace all instances of one substring with another;\n",
        "print(s.replace('TU', 'Tech University of '))"
      ],
      "metadata": {
        "id": "FXgl5mSr10Gz"
      },
      "execution_count": null,
      "outputs": []
    },
    {
      "cell_type": "markdown",
      "source": [
        "# **Python Containers**"
      ],
      "metadata": {
        "id": "Bg6V92YJQRau"
      }
    },
    {
      "cell_type": "markdown",
      "metadata": {
        "id": "jEiEnxAxeZH1"
      },
      "source": [
        "## 1. List\n"
      ]
    },
    {
      "cell_type": "code",
      "execution_count": null,
      "metadata": {
        "id": "vMDspbl1eXb6"
      },
      "outputs": [],
      "source": [
        "xs = [3, 1, 2]    # Create a list\n",
        "print(xs, xs[2])  # Prints \"[3, 1, 2] 2\"\n",
        "print(xs[-1])     # Negative indices count from the end of the list; prints \"2\"\n",
        "xs[2] = 'TUK'     # Lists can contain elements of different types\n",
        "print(xs)         # Prints \"[3, 1, 'TUK']\"\n",
        "xs.append('KOREA')  # Add a new element to the end of the list\n",
        "print(xs)         # Prints \"[3, 1, 'TUK', 'KOREA']\"\n",
        "x = xs.pop()      # Remove and return the last element of the list\n",
        "print(x)\n",
        "print(xs)\n",
        "print(x, xs)      # Prints \"KOREA [3, 1, 'TUK']\""
      ]
    },
    {
      "cell_type": "code",
      "source": [
        "# Slicing\n",
        "nums = list(range(5))     # range is a built-in function that creates a list of integers\n",
        "print(nums)               # Prints \"[0, 1, 2, 3, 4]\"\n",
        "print(nums[2:4])          # Get a slice from index 2 to 4 (exclusive); prints \"[2, 3]\"\n",
        "print(nums[2:])           # Get a slice from index 2 to the end; prints \"[2, 3, 4]\"\n",
        "print(nums[:2])           # Get a slice from the start to index 2 (exclusive); prints \"[0, 1]\"\n",
        "print(nums[:])            # Get a slice of the whole list; prints \"[0, 1, 2, 3, 4]\"\n",
        "print(nums[:-1])          # Slice indices can be negative; prints \"[0, 1, 2, 3]\"\n",
        "nums[2:4] = [8, 9]        # Assign a new sublist to a slice\n",
        "print(nums)               # Prints \"[0, 1, 8, 9, 4]\""
      ],
      "metadata": {
        "id": "aATIfDD3pMGX"
      },
      "execution_count": null,
      "outputs": []
    },
    {
      "cell_type": "code",
      "execution_count": null,
      "metadata": {
        "id": "aOvUFiBPm637"
      },
      "outputs": [],
      "source": [
        "# Loop\n",
        "for i in range(3):\n",
        "    print(i)\n",
        "    print(\"Hi TUK\")\n",
        "\n",
        "# Loop using list\n",
        "animals = ['cat', 'dog', 'monkey']\n",
        "for i in animals:   # Prints \"cat\", \"dog\", \"monkey\", each on its own line.\n",
        "    print(i)"
      ]
    },
    {
      "cell_type": "code",
      "execution_count": null,
      "metadata": {
        "id": "QOIX-VBSnDf_"
      },
      "outputs": [],
      "source": [
        "# Loop\n",
        "animals = ['cat', 'dog', 'monkey']\n",
        "\n",
        "# print out index with the element together!\n",
        "for idx, i in enumerate(animals):\n",
        "    print('#%d: %s' % (idx + 1, i))"
      ]
    },
    {
      "cell_type": "code",
      "execution_count": null,
      "metadata": {
        "id": "Z7I5VpHunDqU"
      },
      "outputs": [],
      "source": [
        "# Loop\n",
        "nums = [0, 1, 2, 3, 4]\n",
        "squares = []     #empty list\n",
        "\n",
        "for x in nums:\n",
        "    print(x)\n",
        "    squares.append(x ** 2) # get exponential of each of the original element in the list\n",
        "print(squares)"
      ]
    },
    {
      "cell_type": "code",
      "execution_count": null,
      "metadata": {
        "id": "enZhK_wRnDzV"
      },
      "outputs": [],
      "source": [
        "# Loop\n",
        "nums = [0, 1, 2, 3, 4]\n",
        "even_squares = [x ** 2 for x in nums if x % 2 == 0] # List comprehensions can contain conditions\n",
        "print(even_squares)  # Prints \"[0, 4, 16]\"\n",
        "\n",
        "even_squares = [x ** 2 for x in nums if x % 2 == 1] # List comprehensions can contain conditions\n",
        "print(even_squares)  # Prints \"[1,9]\""
      ]
    },
    {
      "cell_type": "markdown",
      "metadata": {
        "id": "yEcTcf7jnNNA"
      },
      "source": [
        "## 2. Directory(key, value)"
      ]
    },
    {
      "cell_type": "code",
      "execution_count": null,
      "metadata": {
        "id": "h2RLh5IAnJOm"
      },
      "outputs": [],
      "source": [
        "d = {'cat': 'cute', 'dog': 'furry'} # Create a new dictionary using {} --> {'key':'value'}\n",
        "print(type(d))                 # <class dict>\n",
        "print(d['cat'])                # Get an entry from a dictionary; prints \"cute\"\n",
        "print('cat' in d)              # Check if a dictionary has a given key; prints \"True\"\n",
        "print('skku' in d)             # False\n",
        "d['fish'] = 'wet'              # Add new entry(key,value-->fish,wet) in a dictionary\n",
        "print(d)                       # prints \"{'cat': 'cute', 'dog': 'furry', 'fish': 'wet'}\"\n",
        "print(d['fish'])               # Prints \"wet\"\n",
        "# print(d['monkey'])           # KeyError: 'monkey' not a key of d\n",
        "print(d.get('monkey', 'N/A'))  # Get an element with a default; prints \"N/A\"\n",
        "print(d.get('fish', 'N/A'))    # Get an element with a default; prints \"wet\"\n",
        "del d['fish']                  # Remove an element from a dictionary\n",
        "print(d)                       # prints \"{'cat': 'cute', 'dog': 'furry'}\"\n",
        "print(d.get('fish', 'N/A'))    # \"fish\" is no longer a key; prints \"N/A\""
      ]
    },
    {
      "cell_type": "code",
      "execution_count": null,
      "metadata": {
        "id": "3PREpBManJSj"
      },
      "outputs": [],
      "source": [
        "# another dictionarly example\n",
        "d = {'person': 2, 'cat': 4, 'spider': 8}\n",
        "for animal in d:\n",
        "  legs = d[animal]                    # each animals' value (# of legs)\n",
        "  print('A {} has {} legs'.format(animal, legs))\n",
        "# Prints \"A person has 2 legs\", \"A cat has 4 legs\", \"A spider has 8 legs\""
      ]
    },
    {
      "cell_type": "code",
      "execution_count": null,
      "metadata": {
        "id": "AuNKx5Bnnguv"
      },
      "outputs": [],
      "source": [
        "nums = [0, 1, 2, 3, 4]\n",
        "# Dictionary comprehensions can contain conditions\n",
        "even_num_to_square = {x: x ** 2 for x in nums if x % 2 == 0}\n",
        "\n",
        "print(even_num_to_square)           # Prints \"{0: 0, 2: 4, 4: 16}\""
      ]
    },
    {
      "cell_type": "markdown",
      "metadata": {
        "id": "huKWrY36nmKD"
      },
      "source": [
        "## 3. Sets"
      ]
    },
    {
      "cell_type": "code",
      "execution_count": null,
      "metadata": {
        "id": "yb3PC34gng3P"
      },
      "outputs": [],
      "source": [
        "animals = {'cat', 'dog'} # set is similar as dictionarly, but does not have a value\n",
        "\n",
        "print('cat' in animals)   # Check if an element is in a set; prints \"True\"\n",
        "print('fish' in animals)  # prints \"False\"\n",
        "animals.add('fish')       # Add an element to a set\n",
        "print(animals)            # Prints \"{'fish', 'dog', 'cat'}\"\n",
        "print('fish' in animals)  # Prints \"True\"\n",
        "print(len(animals))       # Number of elements in a set; prints \"3\"\n",
        "animals.add('cat')        # Adding an element that is already in the set does nothing\n",
        "print(animals)            # Prints \"{'fish', 'dog', 'cat'}\"\n",
        "print(len(animals))       # Prints \"3\"\n",
        "animals.remove('fish')    # Remove an element from a set\n",
        "print(animals)            # Prints \"{'dog', 'cat'}\"\n",
        "print(len(animals))       # Prints \"2\""
      ]
    },
    {
      "cell_type": "markdown",
      "metadata": {
        "id": "EdJctzm_nvRV"
      },
      "source": [
        "## 4. Tuples (Immutable)\n"
      ]
    },
    {
      "cell_type": "code",
      "source": [],
      "metadata": {
        "id": "CaRlyN7_xLbp"
      },
      "execution_count": null,
      "outputs": []
    },
    {
      "cell_type": "code",
      "execution_count": null,
      "metadata": {
        "id": "X-yzbPgrnD75"
      },
      "outputs": [],
      "source": [
        "# List\n",
        "mylist = [1, 2, 3]\n",
        "mylist[0] = 999\n",
        "print(mylist)     # [999, 2, 3]"
      ]
    },
    {
      "cell_type": "code",
      "execution_count": null,
      "metadata": {
        "id": "W7qGi6y_n5B7"
      },
      "outputs": [],
      "source": [
        "# Tuples\n",
        "mytuple = (1, 2, 3)\n",
        "mytuple[0] = 999\n",
        "print(mytuple)     #TypeError"
      ]
    },
    {
      "cell_type": "code",
      "execution_count": null,
      "metadata": {
        "id": "iqMG35_nn5Kh"
      },
      "outputs": [],
      "source": [
        "# Create a dictionary with tuple keys\n",
        "d = {(x, x + 1): x for x in range(10)}   # key: (tuple), value: int\n",
        "print(d)\n",
        "t = (5, 6)        # Create a tuple\n",
        "print(type(t))    # Prints \"<class 'tuple'>\"\n",
        "print(d[t])       # Prints \"5\"   t=(5,6) => d[5,6] = 5\n",
        "print(d[(1, 2)])  # Prints \"1\""
      ]
    },
    {
      "cell_type": "code",
      "execution_count": null,
      "metadata": {
        "id": "EfEP-0OZn5Sk"
      },
      "outputs": [],
      "source": []
    },
    {
      "cell_type": "markdown",
      "metadata": {
        "id": "4rkhc4QboCyy"
      },
      "source": [
        "# Conditionals in Python"
      ]
    },
    {
      "cell_type": "code",
      "source": [
        "score = int(input(\"점수를 입력 ==> \"))\n",
        "\n",
        "if score >= 90 :\n",
        "    print(\"A\", end='')\n",
        "elif score >= 80 :\n",
        "    print(\"B\", end='')\n",
        "elif score >= 70 :\n",
        "    print(\"C\", end='')\n",
        "elif score >= 60 :\n",
        "    print(\"D\", end='')\n",
        "else :\n",
        "    print(\"F\", end='')\n",
        "print(\"학점입니다.\")"
      ],
      "metadata": {
        "id": "YxIHXs4QjUEi"
      },
      "execution_count": null,
      "outputs": []
    },
    {
      "cell_type": "code",
      "execution_count": null,
      "metadata": {
        "id": "N3fGvfMDn5fX",
        "colab": {
          "base_uri": "https://localhost:8080/"
        },
        "outputId": "50080a02-3c4f-4958-9fe1-d323df30167f"
      },
      "outputs": [
        {
          "output_type": "stream",
          "name": "stdout",
          "text": [
            "컴퓨터와 가위,바위,보 게임하기!\n",
            "가위/바위/보를 입력하세요!!! ==>ㄳ\n",
            "컴퓨터의 선택은 ==> 보\n",
            "\n",
            "\n",
            "가위/바위/보 중 하나를 내세요.\n",
            "가위/바위/보를 입력하세요!!! ==>ㅇㄹ\n",
            "컴퓨터의 선택은 ==> 가위\n",
            "\n",
            "\n",
            "가위/바위/보 중 하나를 내세요.\n",
            "가위/바위/보를 입력하세요!!! ==>가위\n",
            "컴퓨터의 선택은 ==> 가위\n",
            "비겼습니다. ㅡ.ㅡ\n"
          ]
        }
      ],
      "source": [
        "# 컴퓨터와 가위,바위,보 게임\n",
        "import random\n",
        "print(\"컴퓨터와 가위,바위,보 게임하기!\")\n",
        "\n",
        "while True:\n",
        "    myHand = input(\"가위/바위/보를 입력하세요!!! ==>\")\n",
        "    comHand = random.choice([\"가위\",\"바위\",\"보\"])\n",
        "    print(\"컴퓨터의 선택은 ==>\", comHand)\n",
        "\n",
        "    if myHand == \"가위\" :\n",
        "        if comHand == \"가위\":\n",
        "            print(\"비겼습니다. ㅡ.ㅡ\")\n",
        "        elif comHand == \"바위\":\n",
        "            print(\"졌습니다. ㅠㅠ\")\n",
        "        elif comHand == \"보\" :\n",
        "            print(\"이겼습니다. ^^\")\n",
        "        break\n",
        "\n",
        "    elif myHand == \"바위\" :\n",
        "        if comHand == \"가위\" :\n",
        "           print(\"이겼습니다. ^^\")\n",
        "        elif comHand == \"바위\" :\n",
        "           print(\"비겼습니다. ㅡ.ㅡ\")\n",
        "        elif comHand == \"보\" :\n",
        "           print(\"졌습니다. ㅠㅠ\")\n",
        "        break\n",
        "\n",
        "    elif myHand == \"보\" :\n",
        "        if comHand == \"가위\" :\n",
        "            print(\"졌습니다. ㅠㅠ\")\n",
        "        elif comHand == \"바위\" :\n",
        "            print(\"이겼습니다. ^^\")\n",
        "        elif comHand == \"보\" :\n",
        "            print(\"비겼습니다. ㅡ.ㅡ\")\n",
        "        break\n",
        "\n",
        "    else :\n",
        "        print(\"\\n\")\n",
        "        print(\"가위/바위/보 중 하나를 내세요.\")"
      ]
    },
    {
      "cell_type": "code",
      "source": [
        "n = int(input(\"정수를 입력하시오: \"))\n",
        "fact = 1\n",
        "for i in range(1, n+1):\n",
        "\tfact = fact * i\n",
        "print(n, \"!은\", fact, \"이다.\")"
      ],
      "metadata": {
        "id": "Pk31kOPSBQSl",
        "colab": {
          "base_uri": "https://localhost:8080/"
        },
        "outputId": "cd2a101a-e830-497c-9916-c900840b2aba"
      },
      "execution_count": null,
      "outputs": [
        {
          "output_type": "stream",
          "name": "stdout",
          "text": [
            "정수를 입력하시오: 1\n",
            "1 !은 1 이다.\n"
          ]
        }
      ]
    },
    {
      "cell_type": "code",
      "source": [
        "#  f(x) = x^2 - x - 1 = 0\n",
        "COUNT = 1000\n",
        "START = 1.0\n",
        "END = 2.0\n",
        "\n",
        "for i in range(COUNT):\n",
        "    x = START + i*((END-START)/COUNT)\n",
        "    f = (x**2 -x -1)\n",
        "    if abs(f-0.0) < 0.01 :\n",
        "        print(\"방정식의 해는 \", x)"
      ],
      "metadata": {
        "id": "9g1ep6Ddw_c_"
      },
      "execution_count": null,
      "outputs": []
    },
    {
      "cell_type": "code",
      "source": [
        "# 1과 10까지의 합 계산\n",
        "# 제어 변수를 선언한다.\n",
        "i = 1\n",
        "sum = 0\n",
        "\n",
        "while i <= 10 :     # i 값이 10보다 작으면 반복\n",
        "\tsum = sum + i\n",
        "\ti = i + 1\n",
        "\n",
        "print(\"합계는\", sum)"
      ],
      "metadata": {
        "id": "W23-Iop9NHyx"
      },
      "execution_count": null,
      "outputs": []
    },
    {
      "cell_type": "code",
      "source": [
        "while True:\n",
        "    light = input('신호등 색상을 입력하시오(red, yellow, green) ')\n",
        "    if light == 'green':\n",
        "        break\n",
        "print( '전진!!')"
      ],
      "metadata": {
        "id": "6qIo_gRCOzAB"
      },
      "execution_count": null,
      "outputs": []
    },
    {
      "cell_type": "code",
      "source": [
        "for i in range(1, 11):\n",
        "    if i%3 == 0 :\t\t# 3의 배수이면\n",
        "        continue\t\t# 다음 반복을 시작한다.\n",
        "    print(i, end=\" \")\t\t# 줄바꿈을 하지 않고 스페이스만 출력한다."
      ],
      "metadata": {
        "id": "EeCs6zpuR5yw"
      },
      "execution_count": null,
      "outputs": []
    },
    {
      "cell_type": "code",
      "source": [
        "import random\n",
        "\n",
        "count = 0\n",
        "dice1, dice2, dice3 = 0, 0, 0\n",
        "\n",
        "while True:\n",
        "    count += 1\n",
        "    dice1 = random.randint(1,6)\n",
        "    dice2 = random.randint(1,6)\n",
        "    dice3 = random.randint(1,6)\n",
        "\n",
        "    if(dice1 == dice2) and (dice2 == dice3):\n",
        "        break\n",
        "\n",
        "print(\"3개 주사위는 모두\", dice1, \"입니다.\")\n",
        "print(\"같은 숫자가 나오기까지\", count, \"번 던졌습니다.\")"
      ],
      "metadata": {
        "id": "281eZ95jwTN9"
      },
      "execution_count": null,
      "outputs": []
    },
    {
      "cell_type": "markdown",
      "metadata": {
        "id": "5zGeFRLEoUOM"
      },
      "source": [
        "# Fuctions"
      ]
    },
    {
      "cell_type": "code",
      "execution_count": null,
      "metadata": {
        "id": "Tfr6cGtYoTRC",
        "colab": {
          "base_uri": "https://localhost:8080/"
        },
        "outputId": "70f66438-57a2-49fa-dd6f-1989664dd88c"
      },
      "outputs": [
        {
          "output_type": "stream",
          "name": "stdout",
          "text": [
            "-1 has a sign negative\n",
            "0 has a sign zero\n",
            "1 has a sign positive\n"
          ]
        }
      ],
      "source": [
        "def sign(x):\n",
        "  if x > 0:\n",
        "    return 'positive'\n",
        "  elif x < 0:\n",
        "    return 'negative'\n",
        "  else:\n",
        "    return 'zero'\n",
        "\n",
        "# test the created function\n",
        "for x in [-1, 0, 1]:\n",
        "  print('{} has a sign {}'.format(x,sign(x)))"
      ]
    },
    {
      "cell_type": "code",
      "source": [
        "def hello(name, loud=False):\n",
        "    if loud:\n",
        "        print('HELLO, %s!' % name.upper())\n",
        "    else:\n",
        "        print('Hello, %s' % name)\n",
        "\n",
        "hello('Bob') # Prints \"Hello, Bob\"\n",
        "hello('Fred', loud=True)  # Prints \"HELLO, FRED!\""
      ],
      "metadata": {
        "id": "6kHtphXRVwY7"
      },
      "execution_count": null,
      "outputs": []
    },
    {
      "cell_type": "code",
      "execution_count": null,
      "metadata": {
        "id": "uV3R0EizoTV4"
      },
      "outputs": [],
      "source": [
        "def get_area(radius):\n",
        "    area = 3.14 * radius ** 2\n",
        "    return area\n",
        "\n",
        "result = get_area(3)\n",
        "print(\"반지름이 3인 원의 면적=\", result)"
      ]
    },
    {
      "cell_type": "markdown",
      "metadata": {
        "id": "u40FFO1Lok-w"
      },
      "source": [
        "# Importing in Python: Math and plotting"
      ]
    },
    {
      "cell_type": "code",
      "execution_count": null,
      "metadata": {
        "id": "bXn-FEcpoZJm"
      },
      "outputs": [],
      "source": [
        "#Just about every standard math function on a calculator has a python equivalent pre made.\n",
        "#however, they are from the 'math' package in python. Let's add that package!\n",
        "import math\n",
        "\n",
        "float1 = 5.75\n",
        "float2 = 2.25\n",
        "\n",
        "print(math.log(float1))\n",
        "print(math.exp(float2))\n",
        "print(math.pow(2,5))\n",
        "# There is a quicker way to write exponents if you want:\n",
        "print(2.0**5.0)\n",
        "\n",
        "#Like in MATLAB, you can expand the math to entire lists\n",
        "list3 = [1, 2, 3, 4, 5]\n",
        "print(2 * list3) # [1, 2, 3, 4, 5, 1, 2, 3, 4, 5]"
      ]
    },
    {
      "cell_type": "code",
      "execution_count": null,
      "metadata": {
        "id": "yF4pQjJ5omhL"
      },
      "outputs": [],
      "source": [
        "#We can plot easily in Python like in matlab, just import the relevant package!\n",
        "%matplotlib inline\n",
        "import matplotlib.pyplot as plt\n",
        "\n",
        "x_vals = [-2, -1, 0, 1, 2]\n",
        "y_vals = [-4, -2, 0, 2, 4]\n",
        "plt.plot(x_vals, y_vals)"
      ]
    }
  ],
  "metadata": {
    "colab": {
      "provenance": [],
      "toc_visible": true,
      "gpuType": "T4",
      "authorship_tag": "ABX9TyOLoer4JGa6dQTxBL3v4iJg",
      "include_colab_link": true
    },
    "kernelspec": {
      "display_name": "Python 3",
      "name": "python3"
    },
    "language_info": {
      "name": "python"
    }
  },
  "nbformat": 4,
  "nbformat_minor": 0
}
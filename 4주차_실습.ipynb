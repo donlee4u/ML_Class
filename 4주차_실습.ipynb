{
  "nbformat": 4,
  "nbformat_minor": 0,
  "metadata": {
    "colab": {
      "provenance": [],
      "authorship_tag": "ABX9TyNMskfq9aZ45eBtTPtYKIb4",
      "include_colab_link": true
    },
    "kernelspec": {
      "name": "python3",
      "display_name": "Python 3"
    },
    "language_info": {
      "name": "python"
    }
  },
  "cells": [
    {
      "cell_type": "markdown",
      "metadata": {
        "id": "view-in-github",
        "colab_type": "text"
      },
      "source": [
        "<a href=\"https://colab.research.google.com/github/donlee4u/ML_Class/blob/main/4%EC%A3%BC%EC%B0%A8_%EC%8B%A4%EC%8A%B5.ipynb\" target=\"_parent\"><img src=\"https://colab.research.google.com/assets/colab-badge.svg\" alt=\"Open In Colab\"/></a>"
      ]
    },
    {
      "cell_type": "markdown",
      "source": [
        "\n",
        "- 선형 연립방정식 (two equations, two unknowns)\n",
        "$$\n",
        "\\begin{align*}\n",
        "x_{1} - 3x_{2} &= -3\\\\\n",
        "2x_{1} + x_{2} &= 8\n",
        "\\end{align*}\n",
        "$$\n",
        "\n",
        "- 벡터 형식 ; $Ax = b$,\n",
        "<br>\n",
        "$$A =\n",
        "\\begin{bmatrix}\n",
        "1 & -3 \\\\\n",
        "2 & 1\n",
        "\\end{bmatrix}\n",
        ", \\quad\n",
        "x =\n",
        "\\begin{bmatrix}\n",
        "x_{1} \\\\\n",
        "x_{2}\n",
        "\\end{bmatrix}\n",
        ", \\quad\n",
        "b =\n",
        "\\begin{bmatrix}\n",
        "-3 \\\\\n",
        "8\n",
        "\\end{bmatrix}\n",
        "$$\n",
        "<br>\n",
        "- 역행렬\n",
        "$$\n",
        "\\begin{align*}\n",
        "Ax &= b \\\\\n",
        "A^{-1}Ax &= A^{-1}b \\\\\n",
        "x &= A^{-1}b\n",
        "\\end{align*}\n",
        "$$\n",
        "<br>"
      ],
      "metadata": {
        "id": "qqlXi62HFwTd"
      }
    },
    {
      "cell_type": "code",
      "source": [
        "import numpy as np\n",
        "\n",
        "A = np.array([[1, -3], [2, 1]])\n",
        "b = np.array([[-3], [8]])\n",
        "A = np.asmatrix(A)   # Data A를 행렬로 변환\n",
        "b = np.asmatrix(b)   # Data b를 행렬로 변환\n",
        "x = A.I*b\n",
        "print(x)"
      ],
      "metadata": {
        "id": "BsYPfYOHFsO9"
      },
      "execution_count": null,
      "outputs": []
    },
    {
      "cell_type": "markdown",
      "source": [
        "# 학습 데이터"
      ],
      "metadata": {
        "id": "n3FB8Os8GSYf"
      }
    },
    {
      "cell_type": "code",
      "source": [
        "import numpy as np\n",
        "import matplotlib.pyplot as plt\n",
        "\n",
        "# column vector : input x, output y\n",
        "x = np.array([0.2, 0.4, 0.7, 1.2, 1.5, 1.7, 2.0, 2.5, 2.7, 3.0, 3.4, 3.8, 4.3, 4.4, 4.9]).reshape(-1, 1)\n",
        "y = np.array([0.6, 0.9, 1.1, 1.5, 1.5, 2.0, 2.2, 2.2, 2.6, 2.7, 3.0, 3.0, 3.5, 3.7, 3.8]).reshape(-1, 1)\n",
        "\n",
        "plt.figure(figsize = (6, 4))\n",
        "plt.plot(x, y, 'bo')\n",
        "plt.title('Training Data', fontsize = 16)\n",
        "plt.xlabel('X', fontsize = 12)\n",
        "plt.ylabel('Y', fontsize = 12)\n",
        "plt.axis('equal')\n",
        "plt.grid(alpha = 0.4)\n",
        "plt.show()"
      ],
      "metadata": {
        "id": "JhnHsr7zFsfe"
      },
      "execution_count": null,
      "outputs": []
    },
    {
      "cell_type": "markdown",
      "source": [
        "# 학습 데이터(CSV file)"
      ],
      "metadata": {
        "id": "D1MQAZM3GbOE"
      }
    },
    {
      "cell_type": "code",
      "source": [
        "from google.colab import drive\n",
        "drive.mount('/content/drive')"
      ],
      "metadata": {
        "id": "vAfiut0AF4rY"
      },
      "execution_count": null,
      "outputs": []
    },
    {
      "cell_type": "code",
      "source": [
        "import pandas as pd\n",
        "\n",
        "x = pd.read_csv('/content/drive/MyDrive/Machine Learning실습/lr_data.csv', usecols=['x']).values\n",
        "y = pd.read_csv('/content/drive/MyDrive/Machine Learning실습/lr_data.csv', usecols=['y']).values\n",
        "plt.figure(figsize = (6, 4))\n",
        "plt.plot(x, y, 'bo')\n",
        "plt.title('Training Data', fontsize = 16)\n",
        "plt.xlabel('X', fontsize = 12)\n",
        "plt.ylabel('Y', fontsize = 12)\n",
        "plt.axis('equal')\n",
        "plt.grid(alpha = 0.4)\n",
        "plt.show()"
      ],
      "metadata": {
        "id": "I8U291khF4wL"
      },
      "execution_count": null,
      "outputs": []
    },
    {
      "cell_type": "markdown",
      "source": [
        "# 최소제곱법"
      ],
      "metadata": {
        "id": "TJO76vEHGoUx"
      }
    },
    {
      "cell_type": "code",
      "execution_count": 3,
      "metadata": {
        "colab": {
          "base_uri": "https://localhost:8080/"
        },
        "id": "P1PJOK0efreB",
        "outputId": "285fcfbe-a963-4497-ab89-4190c710a4b5"
      },
      "outputs": [
        {
          "output_type": "stream",
          "name": "stdout",
          "text": [
            "parameter w :\n",
            " [[0.64805086]\n",
            " [0.66973398]]\n"
          ]
        }
      ],
      "source": [
        "import numpy as np\n",
        "import matplotlib.pyplot as plt\n",
        "\n",
        "# column vector : input x, output y\n",
        "x = np.array([0.2, 0.4, 0.7, 1.2, 1.5, 1.7, 2.0, 2.5, 2.7, 3.0, 3.4, 3.8, 4.3, 4.4, 4.9]).reshape(-1, 1)\n",
        "y = np.array([0.6, 0.9, 1.1, 1.5, 1.5, 2.0, 2.2, 2.2, 2.6, 2.7, 3.0, 3.0, 3.5, 3.7, 3.8]).reshape(-1, 1)\n",
        "\n",
        "A = np.hstack([x**0, x])\n",
        "A = np.asmatrix(A)\n",
        "\n",
        "w = (A.T*A).I*A.T*y\n",
        "print('parameter w :\\n', w)\n"
      ]
    },
    {
      "cell_type": "code",
      "source": [
        "# 학습 데이터\n",
        "plt.figure(figsize = (6, 4))\n",
        "plt.title('Linear Regression', fontsize = 16)\n",
        "plt.xlabel('X', fontsize = 12)\n",
        "plt.ylabel('Y', fontsize = 12)\n",
        "plt.plot(x, y, 'bo', label = \"Training data\")\n",
        "\n",
        "# 선형모델 plotting (최소제곱법)\n",
        "xp = np.arange(0, 5, 0.01).reshape(-1, 1)\n",
        "yp = w[0,0] + w[1,0]*xp\n",
        "#print(yp)\n",
        "plt.plot(xp, yp, 'r', linewidth = 2, label = \"Linear model\")\n",
        "plt.legend()\n",
        "plt.axis('equal')\n",
        "plt.grid(alpha = 0.4)\n",
        "plt.show()"
      ],
      "metadata": {
        "id": "tQqtk0NJssBS",
        "colab": {
          "base_uri": "https://localhost:8080/",
          "height": 416
        },
        "outputId": "b04232c6-c9b2-4674-932a-46ce36ee8918"
      },
      "execution_count": 4,
      "outputs": [
        {
          "output_type": "display_data",
          "data": {
            "text/plain": [
              "<Figure size 600x400 with 1 Axes>"
            ],
            "image/png": "[encoded data removed]"
          },
          "metadata": {}
        }
      ]
    },
    {
      "cell_type": "code",
      "source": [],
      "metadata": {
        "id": "ZXUcmC9WHX20"
      },
      "execution_count": null,
      "outputs": []
    }
  ]
}
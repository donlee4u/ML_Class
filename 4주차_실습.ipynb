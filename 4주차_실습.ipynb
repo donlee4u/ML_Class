{
  "nbformat": 4,
  "nbformat_minor": 0,
  "metadata": {
    "colab": {
      "provenance": [],
      "authorship_tag": "ABX9TyPJI0GgfxcbCbfLI21//XST",
      "include_colab_link": true
    },
    "kernelspec": {
      "name": "python3",
      "display_name": "Python 3"
    },
    "language_info": {
      "name": "python"
    }
  },
  "cells": [
    {
      "cell_type": "markdown",
      "metadata": {
        "id": "view-in-github",
        "colab_type": "text"
      },
      "source": [
        "<a href=\"https://colab.research.google.com/github/donlee4u/ML_Class/blob/main/4%EC%A3%BC%EC%B0%A8_%EC%8B%A4%EC%8A%B5.ipynb\" target=\"_parent\"><img src=\"https://colab.research.google.com/assets/colab-badge.svg\" alt=\"Open In Colab\"/></a>"
      ]
    },
    {
      "cell_type": "code",
      "execution_count": 1,
      "metadata": {
        "id": "P1PJOK0efreB"
      },
      "outputs": [],
      "source": [
        "import numpy as np\n",
        "import matplotlib.pyplot as plt\n",
        "\n",
        "# column vector : input x, output y\n",
        "x = np.array([0.2, 0.4, 0.7, 1.2, 1.5, 1.7, 2.0, 2.5, 2.7, 3.0, 3.4, 3.8, 4.3, 4.4, 4.9]).reshape(-1, 1)\n",
        "y = np.array([0.6, 0.9, 1.1, 1.5, 1.5, 2.0, 2.2, 2.2, 2.6, 2.7, 3.0, 3.0, 3.5, 3.7, 3.8]).reshape(-1, 1)\n",
        "\n",
        "plt.figure(figsize = (6, 4))\n",
        "plt.plot(x, y, 'bo')\n",
        "plt.title('Training Data', fontsize = 16)\n",
        "plt.xlabel('X', fontsize = 12)\n",
        "plt.ylabel('Y', fontsize = 12)\n",
        "plt.axis('equal')\n",
        "plt.grid(alpha = 0.4)\n",
        "plt.show()"
      ]
    },
    {
      "cell_type": "code",
      "source": [],
      "metadata": {
        "id": "O4rq1RPQf9dL"
      },
      "execution_count": null,
      "outputs": []
    }
  ]
}
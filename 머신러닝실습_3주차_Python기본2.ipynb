{
  "cells": [
    {
      "cell_type": "markdown",
      "metadata": {
        "id": "view-in-github",
        "colab_type": "text"
      },
      "source": [
        "<a href=\"https://colab.research.google.com/github/donlee4u/ML_Class/blob/main/numpy_DE.ipynb\" target=\"_parent\"><img src=\"https://colab.research.google.com/assets/colab-badge.svg\" alt=\"Open In Colab\"/></a>"
      ]
    },
    {
      "cell_type": "code",
      "execution_count": null,
      "metadata": {
        "id": "0q2D4K97Lt6L"
      },
      "outputs": [],
      "source": [
        "import numpy as np"
      ]
    },
    {
      "cell_type": "code",
      "execution_count": null,
      "metadata": {
        "id": "giMhy9iaLt6N"
      },
      "outputs": [],
      "source": [
        "a = np.array([1, 2, 3])"
      ]
    },
    {
      "cell_type": "code",
      "execution_count": null,
      "metadata": {
        "id": "ZiRGUVMiLt6O",
        "outputId": "9d1888dd-d651-4afd-b0f6-16f5c1b23fe8"
      },
      "outputs": [
        {
          "data": {
            "text/plain": [
              "array([1, 2, 3])"
            ]
          },
          "execution_count": 3,
          "metadata": {},
          "output_type": "execute_result"
        }
      ],
      "source": [
        "a"
      ]
    },
    {
      "cell_type": "code",
      "execution_count": null,
      "metadata": {
        "id": "08t3ayYSLt6Q",
        "outputId": "877dc5d2-18ef-45aa-c2c4-46b7642ef534"
      },
      "outputs": [
        {
          "data": {
            "text/plain": [
              "1"
            ]
          },
          "execution_count": 4,
          "metadata": {},
          "output_type": "execute_result"
        }
      ],
      "source": [
        "a[0]"
      ]
    },
    {
      "cell_type": "code",
      "execution_count": null,
      "metadata": {
        "id": "NRwPEkM0Lt6R"
      },
      "outputs": [],
      "source": [
        "b = np.array([[1, 2, 3], [4, 5, 6], [7, 8, 9]])"
      ]
    },
    {
      "cell_type": "code",
      "execution_count": null,
      "metadata": {
        "id": "v6yQZOcOLt6R",
        "outputId": "55401909-0783-4d15-adf4-5c1c5c40a555"
      },
      "outputs": [
        {
          "data": {
            "text/plain": [
              "array([[1, 2, 3],\n",
              "       [4, 5, 6],\n",
              "       [7, 8, 9]])"
            ]
          },
          "execution_count": 6,
          "metadata": {},
          "output_type": "execute_result"
        }
      ],
      "source": [
        "b"
      ]
    },
    {
      "cell_type": "code",
      "execution_count": null,
      "metadata": {
        "id": "VWLPxmJpLt6R",
        "outputId": "ee32c631-0876-46f8-8185-77e2c4bdef3a"
      },
      "outputs": [
        {
          "data": {
            "text/plain": [
              "3"
            ]
          },
          "execution_count": 7,
          "metadata": {},
          "output_type": "execute_result"
        }
      ],
      "source": [
        " b[0][2]"
      ]
    },
    {
      "cell_type": "code",
      "execution_count": null,
      "metadata": {
        "id": "ev2OQfprLt6R"
      },
      "outputs": [],
      "source": [
        "a = np.array([[ 0, 1, 2],\n",
        " \t\t[ 3, 4, 5],\n",
        "\t\t[ 6, 7, 8]])"
      ]
    },
    {
      "cell_type": "code",
      "execution_count": null,
      "metadata": {
        "id": "KVIBC0SyLt6R",
        "outputId": "e18a6012-d4b7-4ed4-e6f2-af518e36fc73"
      },
      "outputs": [
        {
          "data": {
            "text/plain": [
              "(3, 3)"
            ]
          },
          "execution_count": 9,
          "metadata": {},
          "output_type": "execute_result"
        }
      ],
      "source": [
        "a.shape"
      ]
    },
    {
      "cell_type": "code",
      "execution_count": null,
      "metadata": {
        "id": "flpbTv37Lt6S",
        "outputId": "fbfb502f-fcfa-41d4-d743-b7e84aa4b4db"
      },
      "outputs": [
        {
          "data": {
            "text/plain": [
              "2"
            ]
          },
          "execution_count": 11,
          "metadata": {},
          "output_type": "execute_result"
        }
      ],
      "source": [
        "a.ndim"
      ]
    },
    {
      "cell_type": "code",
      "execution_count": null,
      "metadata": {
        "id": "enZG6ejSLt6S",
        "outputId": "2e567c14-fe34-4647-f100-1546d22a468d"
      },
      "outputs": [
        {
          "data": {
            "text/plain": [
              "dtype('int32')"
            ]
          },
          "execution_count": 12,
          "metadata": {},
          "output_type": "execute_result"
        }
      ],
      "source": [
        "a.dtype"
      ]
    },
    {
      "cell_type": "code",
      "execution_count": null,
      "metadata": {
        "id": "DdoeuiCyLt6S",
        "outputId": "901cc29e-ee47-41d8-965b-f95df25af6ba"
      },
      "outputs": [
        {
          "data": {
            "text/plain": [
              "4"
            ]
          },
          "execution_count": 15,
          "metadata": {},
          "output_type": "execute_result"
        }
      ],
      "source": [
        "a.itemsize"
      ]
    },
    {
      "cell_type": "code",
      "execution_count": null,
      "metadata": {
        "id": "9wqRX9GELt6S",
        "outputId": "d2f6763a-b572-414b-a840-14e2374a5a57"
      },
      "outputs": [
        {
          "data": {
            "text/plain": [
              "9"
            ]
          },
          "execution_count": 14,
          "metadata": {},
          "output_type": "execute_result"
        }
      ],
      "source": [
        "a.size"
      ]
    },
    {
      "cell_type": "code",
      "execution_count": null,
      "metadata": {
        "id": "uUroIZZGLt6S",
        "outputId": "307c5130-2c6f-4b63-b99a-42ce7a18b859"
      },
      "outputs": [
        {
          "data": {
            "text/plain": [
              "array([[0., 0., 0., 0.],\n",
              "       [0., 0., 0., 0.],\n",
              "       [0., 0., 0., 0.]])"
            ]
          },
          "execution_count": 16,
          "metadata": {},
          "output_type": "execute_result"
        }
      ],
      "source": [
        "np.zeros( (3, 4) )"
      ]
    },
    {
      "cell_type": "code",
      "execution_count": null,
      "metadata": {
        "id": "1_40oii5Lt6S",
        "outputId": "4f784f23-2147-4d5f-d8a6-6099e72d5916"
      },
      "outputs": [
        {
          "data": {
            "text/plain": [
              "array([[1, 1, 1, 1],\n",
              "       [1, 1, 1, 1],\n",
              "       [1, 1, 1, 1]])"
            ]
          },
          "execution_count": 17,
          "metadata": {},
          "output_type": "execute_result"
        }
      ],
      "source": [
        "np.ones( (3, 4), dtype=np.int32 )"
      ]
    },
    {
      "cell_type": "code",
      "execution_count": null,
      "metadata": {
        "id": "GW3eZwyvLt6S",
        "outputId": "6316d6a9-753a-44ba-d56c-f3b1f9583e2e"
      },
      "outputs": [
        {
          "data": {
            "text/plain": [
              "array([[1., 0., 0.],\n",
              "       [0., 1., 0.],\n",
              "       [0., 0., 1.]])"
            ]
          },
          "execution_count": 18,
          "metadata": {},
          "output_type": "execute_result"
        }
      ],
      "source": [
        "np.eye(3)"
      ]
    },
    {
      "cell_type": "code",
      "execution_count": null,
      "metadata": {
        "id": "HqoudcawLt6S"
      },
      "outputs": [],
      "source": [
        "x = np.ones(5, dtype=np.int64)"
      ]
    },
    {
      "cell_type": "code",
      "execution_count": null,
      "metadata": {
        "id": "Tb0d-JlLLt6S",
        "outputId": "96316766-ca68-44e2-8af5-1b9369403699"
      },
      "outputs": [
        {
          "data": {
            "text/plain": [
              "array([1, 1, 1, 1, 1], dtype=int64)"
            ]
          },
          "execution_count": 20,
          "metadata": {},
          "output_type": "execute_result"
        }
      ],
      "source": [
        "x"
      ]
    },
    {
      "cell_type": "code",
      "execution_count": null,
      "metadata": {
        "id": "q2yfYJ9sLt6S",
        "outputId": "54a93834-7f8f-403b-fe96-d5a251ff637e"
      },
      "outputs": [
        {
          "data": {
            "text/plain": [
              "array([0, 1, 2, 3, 4])"
            ]
          },
          "execution_count": 21,
          "metadata": {},
          "output_type": "execute_result"
        }
      ],
      "source": [
        "np.arange(5)"
      ]
    },
    {
      "cell_type": "code",
      "execution_count": null,
      "metadata": {
        "id": "SCjNhsWNLt6S",
        "outputId": "a9fc4c38-0813-423a-fdbf-f1f796139ea1"
      },
      "outputs": [
        {
          "data": {
            "text/plain": [
              "array([1, 2, 3, 4, 5])"
            ]
          },
          "execution_count": 22,
          "metadata": {},
          "output_type": "execute_result"
        }
      ],
      "source": [
        "np.arange(1, 6)"
      ]
    },
    {
      "cell_type": "code",
      "execution_count": null,
      "metadata": {
        "id": "ppv4zx9jLt6T",
        "outputId": "6a2406ba-bc83-4c1b-e512-3892486da4ad"
      },
      "outputs": [
        {
          "data": {
            "text/plain": [
              "array([1, 3, 5, 7, 9])"
            ]
          },
          "execution_count": 23,
          "metadata": {},
          "output_type": "execute_result"
        }
      ],
      "source": [
        "np.arange(1, 10, 2)"
      ]
    },
    {
      "cell_type": "code",
      "execution_count": null,
      "metadata": {
        "id": "nJqu1sqbLt6T",
        "outputId": "c00053f7-b5ca-42e7-e5ba-01605835124f"
      },
      "outputs": [
        {
          "data": {
            "text/plain": [
              "array([ 0.        ,  0.1010101 ,  0.2020202 ,  0.3030303 ,  0.4040404 ,\n",
              "        0.50505051,  0.60606061,  0.70707071,  0.80808081,  0.90909091,\n",
              "        1.01010101,  1.11111111,  1.21212121,  1.31313131,  1.41414141,\n",
              "        1.51515152,  1.61616162,  1.71717172,  1.81818182,  1.91919192,\n",
              "        2.02020202,  2.12121212,  2.22222222,  2.32323232,  2.42424242,\n",
              "        2.52525253,  2.62626263,  2.72727273,  2.82828283,  2.92929293,\n",
              "        3.03030303,  3.13131313,  3.23232323,  3.33333333,  3.43434343,\n",
              "        3.53535354,  3.63636364,  3.73737374,  3.83838384,  3.93939394,\n",
              "        4.04040404,  4.14141414,  4.24242424,  4.34343434,  4.44444444,\n",
              "        4.54545455,  4.64646465,  4.74747475,  4.84848485,  4.94949495,\n",
              "        5.05050505,  5.15151515,  5.25252525,  5.35353535,  5.45454545,\n",
              "        5.55555556,  5.65656566,  5.75757576,  5.85858586,  5.95959596,\n",
              "        6.06060606,  6.16161616,  6.26262626,  6.36363636,  6.46464646,\n",
              "        6.56565657,  6.66666667,  6.76767677,  6.86868687,  6.96969697,\n",
              "        7.07070707,  7.17171717,  7.27272727,  7.37373737,  7.47474747,\n",
              "        7.57575758,  7.67676768,  7.77777778,  7.87878788,  7.97979798,\n",
              "        8.08080808,  8.18181818,  8.28282828,  8.38383838,  8.48484848,\n",
              "        8.58585859,  8.68686869,  8.78787879,  8.88888889,  8.98989899,\n",
              "        9.09090909,  9.19191919,  9.29292929,  9.39393939,  9.49494949,\n",
              "        9.5959596 ,  9.6969697 ,  9.7979798 ,  9.8989899 , 10.        ])"
            ]
          },
          "execution_count": 24,
          "metadata": {},
          "output_type": "execute_result"
        }
      ],
      "source": [
        "np.linspace(0, 10, 100)"
      ]
    },
    {
      "cell_type": "code",
      "execution_count": null,
      "metadata": {
        "id": "AuEZ0S_OLt6T"
      },
      "outputs": [],
      "source": [
        "arr = np.array([2, 1, 5, 3, 7, 4, 6, 8])"
      ]
    },
    {
      "cell_type": "code",
      "execution_count": null,
      "metadata": {
        "id": "tmDefEWTLt6T",
        "outputId": "2cd3e533-741b-4e5c-ddcc-82199e705991"
      },
      "outputs": [
        {
          "data": {
            "text/plain": [
              "array([1, 2, 3, 4, 5, 6, 7, 8])"
            ]
          },
          "execution_count": 26,
          "metadata": {},
          "output_type": "execute_result"
        }
      ],
      "source": [
        "np.sort(arr)"
      ]
    },
    {
      "cell_type": "code",
      "execution_count": null,
      "metadata": {
        "id": "sLaUHcs-Lt6T"
      },
      "outputs": [],
      "source": [
        "x = np.array([[1, 2], [3, 4]])"
      ]
    },
    {
      "cell_type": "code",
      "execution_count": null,
      "metadata": {
        "id": "JEiFfsXdLt6T"
      },
      "outputs": [],
      "source": [
        "y = np.array([[5, 6], [7, 8]])"
      ]
    },
    {
      "cell_type": "code",
      "execution_count": null,
      "metadata": {
        "id": "0Euk7H_fLt6T",
        "outputId": "ecf6ce9c-0edf-4a65-d02d-920569c88ac3"
      },
      "outputs": [
        {
          "data": {
            "text/plain": [
              "array([[1, 2, 5, 6],\n",
              "       [3, 4, 7, 8]])"
            ]
          },
          "execution_count": 29,
          "metadata": {},
          "output_type": "execute_result"
        }
      ],
      "source": [
        "np.concatenate((x, y), axis=1)"
      ]
    },
    {
      "cell_type": "code",
      "execution_count": null,
      "metadata": {
        "id": "DttfSaTLLt6T",
        "outputId": "10c9e564-f385-4315-a557-9e2d6ea03e94"
      },
      "outputs": [
        {
          "data": {
            "text/plain": [
              "array([[1, 2],\n",
              "       [3, 4],\n",
              "       [5, 6],\n",
              "       [7, 8]])"
            ]
          },
          "execution_count": 30,
          "metadata": {},
          "output_type": "execute_result"
        }
      ],
      "source": [
        "np.vstack((x, y))"
      ]
    },
    {
      "cell_type": "code",
      "execution_count": null,
      "metadata": {
        "id": "L8jhDcdkLt6T",
        "outputId": "ebe028f3-ff47-4074-b02c-e37aea4eb513"
      },
      "outputs": [
        {
          "data": {
            "text/plain": [
              "array([[1, 2, 5, 6],\n",
              "       [3, 4, 7, 8]])"
            ]
          },
          "execution_count": 31,
          "metadata": {},
          "output_type": "execute_result"
        }
      ],
      "source": [
        "np.hstack((x, y))"
      ]
    },
    {
      "cell_type": "code",
      "execution_count": null,
      "metadata": {
        "id": "5uhaJtj0Lt6T"
      },
      "outputs": [],
      "source": [
        "a = np.arange(12)"
      ]
    },
    {
      "cell_type": "code",
      "execution_count": null,
      "metadata": {
        "id": "9wgj1pNxLt6T",
        "outputId": "fd9538a4-cced-4401-d14b-dc8f482bb77f"
      },
      "outputs": [
        {
          "data": {
            "text/plain": [
              "(12,)"
            ]
          },
          "execution_count": 33,
          "metadata": {},
          "output_type": "execute_result"
        }
      ],
      "source": [
        "a.shape"
      ]
    },
    {
      "cell_type": "code",
      "execution_count": null,
      "metadata": {
        "id": "P3tkeZhsLt6T",
        "outputId": "4709809a-f932-47f5-bd9e-26129a3097df"
      },
      "outputs": [
        {
          "data": {
            "text/plain": [
              "array([[ 0,  1,  2,  3],\n",
              "       [ 4,  5,  6,  7],\n",
              "       [ 8,  9, 10, 11]])"
            ]
          },
          "execution_count": 34,
          "metadata": {},
          "output_type": "execute_result"
        }
      ],
      "source": [
        "a.reshape(3, 4)"
      ]
    },
    {
      "cell_type": "code",
      "execution_count": null,
      "metadata": {
        "id": "OnyxZJ3HLt6T",
        "outputId": "fc63ed14-5f4c-4e90-b546-23b63140e5a0"
      },
      "outputs": [
        {
          "data": {
            "text/plain": [
              "array([[ 0,  1],\n",
              "       [ 2,  3],\n",
              "       [ 4,  5],\n",
              "       [ 6,  7],\n",
              "       [ 8,  9],\n",
              "       [10, 11]])"
            ]
          },
          "execution_count": 35,
          "metadata": {},
          "output_type": "execute_result"
        }
      ],
      "source": [
        "a.reshape(6, -1)"
      ]
    },
    {
      "cell_type": "code",
      "execution_count": null,
      "metadata": {
        "id": "FoQZQlMTLt6U"
      },
      "outputs": [],
      "source": [
        "array = np.arange(30).reshape(-1, 10)"
      ]
    },
    {
      "cell_type": "code",
      "execution_count": null,
      "metadata": {
        "id": "Dorv9mZuLt6U",
        "outputId": "b31c07c9-ec17-4db4-ee54-0e56f2d4350d"
      },
      "outputs": [
        {
          "data": {
            "text/plain": [
              "array([[ 0,  1,  2,  3,  4,  5,  6,  7,  8,  9],\n",
              "       [10, 11, 12, 13, 14, 15, 16, 17, 18, 19],\n",
              "       [20, 21, 22, 23, 24, 25, 26, 27, 28, 29]])"
            ]
          },
          "execution_count": 40,
          "metadata": {},
          "output_type": "execute_result"
        }
      ],
      "source": [
        "array"
      ]
    },
    {
      "cell_type": "code",
      "execution_count": null,
      "metadata": {
        "id": "pW2Bl__xLt6U"
      },
      "outputs": [],
      "source": [
        "arr1, arr2 = np.split(array, [3], axis=1)"
      ]
    },
    {
      "cell_type": "code",
      "execution_count": null,
      "metadata": {
        "id": "5kurcR3PLt6U",
        "outputId": "e5e70b7d-c1f7-43a4-910a-e73d92dd417e"
      },
      "outputs": [
        {
          "data": {
            "text/plain": [
              "array([[ 0,  1,  2],\n",
              "       [10, 11, 12],\n",
              "       [20, 21, 22]])"
            ]
          },
          "execution_count": 43,
          "metadata": {},
          "output_type": "execute_result"
        }
      ],
      "source": [
        "arr1"
      ]
    },
    {
      "cell_type": "code",
      "execution_count": null,
      "metadata": {
        "id": "OUxTNK58Lt6U",
        "outputId": "b77592d7-a9e1-4fae-e6f0-121c790c56de"
      },
      "outputs": [
        {
          "data": {
            "text/plain": [
              "array([[ 3,  4,  5,  6,  7,  8,  9],\n",
              "       [13, 14, 15, 16, 17, 18, 19],\n",
              "       [23, 24, 25, 26, 27, 28, 29]])"
            ]
          },
          "execution_count": 44,
          "metadata": {},
          "output_type": "execute_result"
        }
      ],
      "source": [
        "arr2"
      ]
    },
    {
      "cell_type": "code",
      "execution_count": null,
      "metadata": {
        "id": "Yiay1bO2Lt6U"
      },
      "outputs": [],
      "source": [
        "a = np.array([1, 2, 3, 4, 5, 6])\n"
      ]
    },
    {
      "cell_type": "code",
      "execution_count": null,
      "metadata": {
        "id": "p0Z7bbHfLt6V",
        "outputId": "1f258d68-1f5d-4043-9534-9573e7799478"
      },
      "outputs": [
        {
          "data": {
            "text/plain": [
              "(6,)"
            ]
          },
          "execution_count": 46,
          "metadata": {},
          "output_type": "execute_result"
        }
      ],
      "source": [
        "a.shape"
      ]
    },
    {
      "cell_type": "code",
      "execution_count": null,
      "metadata": {
        "id": "dwxxgAD4Lt6V"
      },
      "outputs": [],
      "source": [
        "a1 = a[np.newaxis, :]"
      ]
    },
    {
      "cell_type": "code",
      "execution_count": null,
      "metadata": {
        "id": "I9e6hZ3tLt6V",
        "outputId": "fc1ae604-2558-40d5-b88a-12a5c4586775"
      },
      "outputs": [
        {
          "data": {
            "text/plain": [
              "array([[1, 2, 3, 4, 5, 6]])"
            ]
          },
          "execution_count": 48,
          "metadata": {},
          "output_type": "execute_result"
        }
      ],
      "source": [
        "a1"
      ]
    },
    {
      "cell_type": "code",
      "execution_count": null,
      "metadata": {
        "id": "eAoYDmyCLt6V",
        "outputId": "0a656dee-568d-4de2-88a8-1f2411068a4e"
      },
      "outputs": [
        {
          "data": {
            "text/plain": [
              "(1, 6)"
            ]
          },
          "execution_count": 49,
          "metadata": {},
          "output_type": "execute_result"
        }
      ],
      "source": [
        "a1.shape"
      ]
    },
    {
      "cell_type": "code",
      "execution_count": null,
      "metadata": {
        "id": "eDPVvoVXLt6V"
      },
      "outputs": [],
      "source": [
        "a2 = a[:, np.newaxis]"
      ]
    },
    {
      "cell_type": "code",
      "execution_count": null,
      "metadata": {
        "id": "qkEaaq_VLt6V",
        "outputId": "e8e25fd5-bc1b-40c3-a049-b10b4aaaea9b"
      },
      "outputs": [
        {
          "data": {
            "text/plain": [
              "(6, 1)"
            ]
          },
          "execution_count": 51,
          "metadata": {},
          "output_type": "execute_result"
        }
      ],
      "source": [
        "a2.shape"
      ]
    },
    {
      "cell_type": "code",
      "execution_count": null,
      "metadata": {
        "id": "Wkh_-s8qLt6V"
      },
      "outputs": [],
      "source": [
        "ages = np.array([18, 19, 25, 30, 28])"
      ]
    },
    {
      "cell_type": "code",
      "execution_count": null,
      "metadata": {
        "id": "3b42Ef_ALt6V",
        "outputId": "da750037-ad11-42a5-a71b-4929156e4900"
      },
      "outputs": [
        {
          "data": {
            "text/plain": [
              "array([19, 25])"
            ]
          },
          "execution_count": 53,
          "metadata": {},
          "output_type": "execute_result"
        }
      ],
      "source": [
        "ages[1:3]"
      ]
    },
    {
      "cell_type": "code",
      "execution_count": null,
      "metadata": {
        "id": "RZNvoKs_Lt6V",
        "outputId": "5c8bb8b0-f33c-4b42-f377-a4bc5e4eae15"
      },
      "outputs": [
        {
          "data": {
            "text/plain": [
              "array([18, 19])"
            ]
          },
          "execution_count": 54,
          "metadata": {},
          "output_type": "execute_result"
        }
      ],
      "source": [
        "ages[:2]"
      ]
    },
    {
      "cell_type": "code",
      "execution_count": null,
      "metadata": {
        "id": "ICwTqCIsLt6V"
      },
      "outputs": [],
      "source": [
        "y = ages > 20"
      ]
    },
    {
      "cell_type": "code",
      "execution_count": null,
      "metadata": {
        "id": "t2_QqxTzLt6V",
        "outputId": "38f8509a-53e3-49a8-8b7a-1413394e5519"
      },
      "outputs": [
        {
          "data": {
            "text/plain": [
              "array([False, False,  True,  True,  True])"
            ]
          },
          "execution_count": 56,
          "metadata": {},
          "output_type": "execute_result"
        }
      ],
      "source": [
        "y"
      ]
    },
    {
      "cell_type": "code",
      "execution_count": null,
      "metadata": {
        "id": "0913SX_jLt6V",
        "outputId": "83e4d7b7-ef97-4966-a84b-738666618ab3"
      },
      "outputs": [
        {
          "data": {
            "text/plain": [
              "array([25, 30, 28])"
            ]
          },
          "execution_count": 57,
          "metadata": {},
          "output_type": "execute_result"
        }
      ],
      "source": [
        "ages[ ages > 20 ]"
      ]
    },
    {
      "cell_type": "code",
      "execution_count": null,
      "metadata": {
        "id": "BhSz6S8dLt6V"
      },
      "outputs": [],
      "source": [
        "a = np.array([[1, 2, 3], [4, 5, 6], [7, 8, 9]])"
      ]
    },
    {
      "cell_type": "code",
      "execution_count": null,
      "metadata": {
        "id": "7VkcpqUHLt6V",
        "outputId": "5f4c6da5-bdcd-4988-9e24-f936d27d4e8b"
      },
      "outputs": [
        {
          "data": {
            "text/plain": [
              "3"
            ]
          },
          "execution_count": 59,
          "metadata": {},
          "output_type": "execute_result"
        }
      ],
      "source": [
        "a[0, 2]"
      ]
    },
    {
      "cell_type": "code",
      "execution_count": null,
      "metadata": {
        "id": "wzKgsvh1Lt6W"
      },
      "outputs": [],
      "source": [
        "a[0, 0] = 12"
      ]
    },
    {
      "cell_type": "code",
      "execution_count": null,
      "metadata": {
        "id": "td5mY8WgLt6W",
        "outputId": "9c51cc8d-74b7-4b9f-96e6-413a7c47450d"
      },
      "outputs": [
        {
          "data": {
            "text/plain": [
              "array([[12,  2,  3],\n",
              "       [ 4,  5,  6],\n",
              "       [ 7,  8,  9]])"
            ]
          },
          "execution_count": 61,
          "metadata": {},
          "output_type": "execute_result"
        }
      ],
      "source": [
        "a"
      ]
    },
    {
      "cell_type": "code",
      "execution_count": null,
      "metadata": {
        "id": "vuPXNyo5Lt6W"
      },
      "outputs": [],
      "source": [
        "a = np.array([[1, 2, 3], [4, 5, 6], [7, 8, 9]])"
      ]
    },
    {
      "cell_type": "code",
      "execution_count": null,
      "metadata": {
        "id": "ToJv7k4ALt6W",
        "outputId": "614ae30c-531e-439a-bea6-e57206e95f14"
      },
      "outputs": [
        {
          "data": {
            "text/plain": [
              "array([[2, 3],\n",
              "       [5, 6]])"
            ]
          },
          "execution_count": 63,
          "metadata": {},
          "output_type": "execute_result"
        }
      ],
      "source": [
        "a[0:2, 1:3]"
      ]
    },
    {
      "cell_type": "code",
      "execution_count": null,
      "metadata": {
        "id": "KlBSWnIzLt6W"
      },
      "outputs": [],
      "source": [
        "arr1 = np.array([[1, 2], [3, 4], [5, 6]])"
      ]
    },
    {
      "cell_type": "code",
      "execution_count": null,
      "metadata": {
        "id": "kw2TpA7fLt6W"
      },
      "outputs": [],
      "source": [
        "arr2 = np.array([[1, 1], [1, 1], [1, 1]])"
      ]
    },
    {
      "cell_type": "code",
      "execution_count": null,
      "metadata": {
        "id": "qEEjigKuLt6W"
      },
      "outputs": [],
      "source": [
        "result = arr1 + arr2"
      ]
    },
    {
      "cell_type": "code",
      "execution_count": null,
      "metadata": {
        "id": "s0THdU3mLt6X",
        "outputId": "1a67e1dd-f32a-4668-9e72-8e48fcbff08b"
      },
      "outputs": [
        {
          "data": {
            "text/plain": [
              "array([[2, 3],\n",
              "       [4, 5],\n",
              "       [6, 7]])"
            ]
          },
          "execution_count": 67,
          "metadata": {},
          "output_type": "execute_result"
        }
      ],
      "source": [
        "result"
      ]
    },
    {
      "cell_type": "code",
      "execution_count": null,
      "metadata": {
        "id": "QUNiAkgxLt6X"
      },
      "outputs": [],
      "source": [
        "miles = np.array([1, 2, 3])"
      ]
    },
    {
      "cell_type": "code",
      "execution_count": null,
      "metadata": {
        "id": "ucHB7yIjLt6X"
      },
      "outputs": [],
      "source": [
        "result = miles * 1.6"
      ]
    },
    {
      "cell_type": "code",
      "execution_count": null,
      "metadata": {
        "id": "GSkP9ErKLt6X",
        "outputId": "171937ad-c54d-4970-fd33-218ae2bb91c9"
      },
      "outputs": [
        {
          "data": {
            "text/plain": [
              "array([1.6, 3.2, 4.8])"
            ]
          },
          "execution_count": 70,
          "metadata": {},
          "output_type": "execute_result"
        }
      ],
      "source": [
        "result"
      ]
    },
    {
      "cell_type": "code",
      "execution_count": null,
      "metadata": {
        "id": "88XA_siALt6X"
      },
      "outputs": [],
      "source": [
        "arr1 = np.array([[1, 2], [3, 4], [5, 6]])"
      ]
    },
    {
      "cell_type": "code",
      "execution_count": null,
      "metadata": {
        "id": "l_DiMRhYLt6X"
      },
      "outputs": [],
      "source": [
        "arr2 = np.array([[2, 2], [2, 2], [2, 2]])"
      ]
    },
    {
      "cell_type": "code",
      "execution_count": null,
      "metadata": {
        "id": "94sterJWLt6Y"
      },
      "outputs": [],
      "source": [
        "result = arr1 * arr2"
      ]
    },
    {
      "cell_type": "code",
      "execution_count": null,
      "metadata": {
        "id": "hPpv8KyZLt6Y",
        "outputId": "b49732d3-ca08-4fb5-dca8-1edcc7f73545"
      },
      "outputs": [
        {
          "data": {
            "text/plain": [
              "array([[ 2,  4],\n",
              "       [ 6,  8],\n",
              "       [10, 12]])"
            ]
          },
          "execution_count": 74,
          "metadata": {},
          "output_type": "execute_result"
        }
      ],
      "source": [
        "result"
      ]
    },
    {
      "cell_type": "code",
      "execution_count": null,
      "metadata": {
        "id": "E18F3xeHLt6Y"
      },
      "outputs": [],
      "source": [
        "arr1 = np.array([[1, 2, 3], [4, 5, 6], [7, 8, 9]])"
      ]
    },
    {
      "cell_type": "code",
      "execution_count": null,
      "metadata": {
        "id": "zxyaY3upLt6Y"
      },
      "outputs": [],
      "source": [
        "arr2 = np.array([[2, 2], [2, 2], [2, 2]])"
      ]
    },
    {
      "cell_type": "code",
      "execution_count": null,
      "metadata": {
        "id": "pG9BwD2CLt6Y"
      },
      "outputs": [],
      "source": [
        "result = arr1 @ arr2"
      ]
    },
    {
      "cell_type": "code",
      "execution_count": null,
      "metadata": {
        "id": "1vNX8qfCLt6Y",
        "outputId": "c08f15d1-f4fd-4f06-9234-f99f9dd25566"
      },
      "outputs": [
        {
          "data": {
            "text/plain": [
              "array([[12, 12],\n",
              "       [30, 30],\n",
              "       [48, 48]])"
            ]
          },
          "execution_count": 78,
          "metadata": {},
          "output_type": "execute_result"
        }
      ],
      "source": [
        "result"
      ]
    },
    {
      "cell_type": "code",
      "execution_count": null,
      "metadata": {
        "id": "qfA8tWaSLt6Z"
      },
      "outputs": [],
      "source": [
        "A = np.array([0, 1, 2, 3])\n"
      ]
    },
    {
      "cell_type": "code",
      "execution_count": null,
      "metadata": {
        "id": "VlfHZcBxLt6Z",
        "outputId": "7e5559cd-cd87-4019-ddcc-a445c1645d46"
      },
      "outputs": [
        {
          "data": {
            "text/plain": [
              "array([0.        , 8.41470985, 9.09297427, 1.41120008])"
            ]
          },
          "execution_count": 80,
          "metadata": {},
          "output_type": "execute_result"
        }
      ],
      "source": [
        "10 * np.sin(A)"
      ]
    },
    {
      "cell_type": "code",
      "execution_count": null,
      "metadata": {
        "id": "-Z6LAgpaLt6Z"
      },
      "outputs": [],
      "source": [
        "a = np.array([[1, 2, 3], [4, 5, 6], [7, 8, 9]])"
      ]
    },
    {
      "cell_type": "code",
      "execution_count": null,
      "metadata": {
        "id": "2ISI1QkzLt6Z",
        "outputId": "5fced1c1-523d-42af-983b-e23877947668"
      },
      "outputs": [
        {
          "data": {
            "text/plain": [
              "45"
            ]
          },
          "execution_count": 82,
          "metadata": {},
          "output_type": "execute_result"
        }
      ],
      "source": [
        "a.sum()"
      ]
    },
    {
      "cell_type": "code",
      "execution_count": null,
      "metadata": {
        "id": "GF73L0qSLt6Z",
        "outputId": "9c6d349b-a65a-4d7f-a11a-c4ed135a1b74"
      },
      "outputs": [
        {
          "data": {
            "text/plain": [
              "1"
            ]
          },
          "execution_count": 83,
          "metadata": {},
          "output_type": "execute_result"
        }
      ],
      "source": [
        "a.min()"
      ]
    },
    {
      "cell_type": "code",
      "execution_count": null,
      "metadata": {
        "id": "PT2QZ7dLLt6Z",
        "outputId": "af8a8a0e-bccb-4eb4-d931-7924d46011f7"
      },
      "outputs": [
        {
          "data": {
            "text/plain": [
              "9"
            ]
          },
          "execution_count": 84,
          "metadata": {},
          "output_type": "execute_result"
        }
      ],
      "source": [
        "a.max()"
      ]
    },
    {
      "cell_type": "code",
      "execution_count": null,
      "metadata": {
        "id": "ahmYrBfsLt6a"
      },
      "outputs": [],
      "source": [
        "scores = np.array([[99, 93, 60], [98, 82, 93],\n",
        "               [93, 65, 81], [78, 82, 81]])"
      ]
    },
    {
      "cell_type": "code",
      "execution_count": null,
      "metadata": {
        "id": "VLLo-ZgvLt6a",
        "outputId": "dd3be420-a630-4c8e-888f-34e59c9733f8"
      },
      "outputs": [
        {
          "data": {
            "text/plain": [
              "array([92.  , 80.5 , 78.75])"
            ]
          },
          "execution_count": 86,
          "metadata": {},
          "output_type": "execute_result"
        }
      ],
      "source": [
        "scores.mean(axis=0)"
      ]
    },
    {
      "cell_type": "code",
      "execution_count": null,
      "metadata": {
        "id": "Fq75IqZXLt6a"
      },
      "outputs": [],
      "source": [
        "np.random.seed(100)\n"
      ]
    },
    {
      "cell_type": "code",
      "execution_count": null,
      "metadata": {
        "id": "0Cazh151Lt6a",
        "outputId": "27bf23e8-71d6-4eb7-d10c-3b5a2b3055c0"
      },
      "outputs": [
        {
          "data": {
            "text/plain": [
              "array([0.54340494, 0.27836939, 0.42451759, 0.84477613, 0.00471886])"
            ]
          },
          "execution_count": 88,
          "metadata": {},
          "output_type": "execute_result"
        }
      ],
      "source": [
        "np.random.rand(5)\n"
      ]
    },
    {
      "cell_type": "code",
      "execution_count": null,
      "metadata": {
        "id": "VTk0F7-qLt6a",
        "outputId": "f93b4e52-208b-477b-d887-4b2ac62d39a8"
      },
      "outputs": [
        {
          "data": {
            "text/plain": [
              "array([[0.12156912, 0.67074908, 0.82585276],\n",
              "       [0.13670659, 0.57509333, 0.89132195],\n",
              "       [0.20920212, 0.18532822, 0.10837689],\n",
              "       [0.21969749, 0.97862378, 0.81168315],\n",
              "       [0.17194101, 0.81622475, 0.27407375]])"
            ]
          },
          "execution_count": 89,
          "metadata": {},
          "output_type": "execute_result"
        }
      ],
      "source": [
        "np.random.rand(5, 3)\n"
      ]
    },
    {
      "cell_type": "code",
      "execution_count": null,
      "metadata": {
        "id": "DYdKDSmPLt6a",
        "outputId": "e0149baa-dc7c-44d9-eb18-b6be93797d38"
      },
      "outputs": [
        {
          "data": {
            "text/plain": [
              "array([ 0.67272081, -0.10441114, -0.53128038,  1.02973269, -0.43813562])"
            ]
          },
          "execution_count": 90,
          "metadata": {},
          "output_type": "execute_result"
        }
      ],
      "source": [
        "np.random.randn(5)"
      ]
    },
    {
      "cell_type": "code",
      "execution_count": null,
      "metadata": {
        "id": "PlR08owkLt6b",
        "outputId": "652f52a5-2746-4f71-b80e-1d1781e4b1f8"
      },
      "outputs": [
        {
          "data": {
            "text/plain": [
              "array([[-1.11831825,  1.61898166,  1.54160517, -0.25187914],\n",
              "       [-0.84243574,  0.18451869,  0.9370822 ,  0.73100034],\n",
              "       [ 1.36155613, -0.32623806,  0.05567601,  0.22239961],\n",
              "       [-1.443217  , -0.75635231,  0.81645401,  0.75044476],\n",
              "       [-0.45594693,  1.18962227, -1.69061683, -1.35639905]])"
            ]
          },
          "execution_count": 91,
          "metadata": {},
          "output_type": "execute_result"
        }
      ],
      "source": [
        "np.random.randn(5, 4)"
      ]
    },
    {
      "cell_type": "code",
      "execution_count": null,
      "metadata": {
        "id": "u43yKWHgLt6b"
      },
      "outputs": [],
      "source": [
        "m, sigma = 10, 2"
      ]
    },
    {
      "cell_type": "code",
      "execution_count": null,
      "metadata": {
        "id": "e_lykbN5Lt6b",
        "outputId": "e1da0b5d-151c-470f-ac37-77576a1ca229"
      },
      "outputs": [
        {
          "data": {
            "text/plain": [
              "array([ 7.53513097,  8.91112168,  8.66365653, 10.01462913,  8.77412253])"
            ]
          },
          "execution_count": 93,
          "metadata": {},
          "output_type": "execute_result"
        }
      ],
      "source": [
        "m + sigma*np.random.randn(5)"
      ]
    },
    {
      "cell_type": "code",
      "execution_count": null,
      "metadata": {
        "id": "GJp5PjKzLt6b"
      },
      "outputs": [],
      "source": [
        "mu, sigma = 0, 0.1 \t# 평균과 표준 편차"
      ]
    },
    {
      "cell_type": "code",
      "execution_count": null,
      "metadata": {
        "id": "9iat2ShVLt6c",
        "outputId": "56af199c-6614-4db9-fd32-00a3869072c3"
      },
      "outputs": [
        {
          "data": {
            "text/plain": [
              "array([ 0.12997481, -0.17330956, -0.09833101,  0.03575078, -0.16135785])"
            ]
          },
          "execution_count": 95,
          "metadata": {},
          "output_type": "execute_result"
        }
      ],
      "source": [
        "np.random.normal(mu, sigma, 5)"
      ]
    },
    {
      "cell_type": "code",
      "execution_count": null,
      "metadata": {
        "id": "isiK8ZwDLt6c"
      },
      "outputs": [],
      "source": [
        "a = np.array([11, 11, 12, 13, 14, 15, 16, 17, 12, 13, 11, 14, 18, 19, 20])"
      ]
    },
    {
      "cell_type": "code",
      "execution_count": null,
      "metadata": {
        "id": "8mLSokmFLt6c"
      },
      "outputs": [],
      "source": [
        "unique_values = np.unique(a)"
      ]
    },
    {
      "cell_type": "code",
      "execution_count": null,
      "metadata": {
        "id": "6a2p41RtLt6c",
        "outputId": "2b793e7f-d6a9-4738-c2a7-844f4cb0799f"
      },
      "outputs": [
        {
          "data": {
            "text/plain": [
              "array([11, 12, 13, 14, 15, 16, 17, 18, 19, 20])"
            ]
          },
          "execution_count": 98,
          "metadata": {},
          "output_type": "execute_result"
        }
      ],
      "source": [
        "unique_values"
      ]
    },
    {
      "cell_type": "code",
      "execution_count": null,
      "metadata": {
        "id": "GsSQVLO-Lt6c",
        "outputId": "06152970-4318-41ae-b9e0-b2eaa51c8cfe"
      },
      "outputs": [
        {
          "name": "stdout",
          "output_type": "stream",
          "text": [
            "[[1 3 5]\n",
            " [2 4 6]]\n"
          ]
        }
      ],
      "source": [
        "arr = np.array([[1, 2], [3, 4], [5, 6]])\n",
        "print(arr.T)"
      ]
    },
    {
      "cell_type": "code",
      "execution_count": null,
      "metadata": {
        "id": "sljZGbALLt6c"
      },
      "outputs": [],
      "source": [
        "x = np.array([[1, 2, 3, 4], [5, 6, 7, 8], [9, 10, 11, 12]])"
      ]
    },
    {
      "cell_type": "code",
      "execution_count": 9,
      "metadata": {
        "id": "rQfBIWtuLt6c",
        "outputId": "74d0ab4f-ae24-440f-ca9a-5a680755715f",
        "colab": {
          "base_uri": "https://localhost:8080/"
        }
      },
      "outputs": [
        {
          "output_type": "execute_result",
          "data": {
            "text/plain": [
              "array(['KR', 'Korea', 98480, 'Seoul', 48422644, 'US', 'USA', 9629091,\n",
              "       'Washington', 310232863, 'JP', 'Japan', 377835, 'Tokyo', 127288000,\n",
              "       'CN', 'China', 9596960, 'Beijing', 1330044000, 'RU', 'Russia',\n",
              "       17100000, 'Moscow', 140702000], dtype=object)"
            ]
          },
          "metadata": {},
          "execution_count": 9
        }
      ],
      "source": [
        "x.flatten()"
      ]
    },
    {
      "cell_type": "markdown",
      "source": [
        "# CSV 파일"
      ],
      "metadata": {
        "id": "yaAF0W3JN_rc"
      }
    },
    {
      "cell_type": "code",
      "source": [
        "from google.colab import drive\n",
        "drive.mount('/content/drive')"
      ],
      "metadata": {
        "id": "RsBy36V2MZy1",
        "colab": {
          "base_uri": "https://localhost:8080/"
        },
        "outputId": "50511620-b487-4eb2-ec45-6fe21c061aa7"
      },
      "execution_count": 10,
      "outputs": [
        {
          "output_type": "stream",
          "name": "stdout",
          "text": [
            "Drive already mounted at /content/drive; to attempt to forcibly remount, call drive.mount(\"/content/drive\", force_remount=True).\n"
          ]
        }
      ]
    },
    {
      "cell_type": "code",
      "execution_count": 11,
      "metadata": {
        "colab": {
          "base_uri": "https://localhost:8080/"
        },
        "id": "7xfbpItzLt6c",
        "outputId": "caa530ac-7b21-43e8-9995-23e1d662599e"
      },
      "outputs": [
        {
          "output_type": "stream",
          "name": "stdout",
          "text": [
            "[['KR' 'Korea' 98480 'Seoul' 48422644]\n",
            " ['US' 'USA' 9629091 'Washington' 310232863]\n",
            " ['JP' 'Japan' 377835 'Tokyo' 127288000]\n",
            " ['CN' 'China' 9596960 'Beijing' 1330044000]\n",
            " ['RU' 'Russia' 17100000 'Moscow' 140702000]]\n"
          ]
        }
      ],
      "source": [
        "import numpy as np\n",
        "import pandas as pd\n",
        "\n",
        "x = pd.read_csv('/content/drive/MyDrive/Colab Notebooks/countries.csv', header=0).values\n",
        "print(x)"
      ]
    },
    {
      "cell_type": "code",
      "source": [
        "x = pd.read_csv('/content/drive/MyDrive/Colab Notebooks/countries.csv', usecols=['country','capital']).values\n",
        "print(x)"
      ],
      "metadata": {
        "colab": {
          "base_uri": "https://localhost:8080/"
        },
        "id": "fDq2te8zXd7m",
        "outputId": "50092b98-1bdf-4aaf-951e-a3b0c6517b99"
      },
      "execution_count": 12,
      "outputs": [
        {
          "output_type": "stream",
          "name": "stdout",
          "text": [
            "[['Korea' 'Seoul']\n",
            " ['USA' 'Washington']\n",
            " ['Japan' 'Tokyo']\n",
            " ['China' 'Beijing']\n",
            " ['Russia' 'Moscow']]\n"
          ]
        }
      ]
    },
    {
      "cell_type": "code",
      "source": [
        "a = np.arange(100,116,1).reshape(4,4)\n",
        "df = pd.DataFrame(a)\n",
        "print(df)"
      ],
      "metadata": {
        "colab": {
          "base_uri": "https://localhost:8080/"
        },
        "id": "uI-7TDAmZ7n2",
        "outputId": "d6b53130-e73d-4b15-ca53-e5e935c4eccd"
      },
      "execution_count": 15,
      "outputs": [
        {
          "output_type": "stream",
          "name": "stdout",
          "text": [
            "     0    1    2    3\n",
            "0  100  101  102  103\n",
            "1  104  105  106  107\n",
            "2  108  109  110  111\n",
            "3  112  113  114  115\n"
          ]
        }
      ]
    },
    {
      "cell_type": "code",
      "source": [
        "df.to_csv('/content/drive/MyDrive/Colab Notebooks/pd.csv')"
      ],
      "metadata": {
        "id": "PGzirxeFabPF"
      },
      "execution_count": 14,
      "outputs": []
    },
    {
      "cell_type": "markdown",
      "source": [
        "# Matplotlib"
      ],
      "metadata": {
        "id": "8CceIstfmwAD"
      }
    },
    {
      "cell_type": "code",
      "execution_count": null,
      "metadata": {
        "id": "KP1Vmf8HLt6c"
      },
      "outputs": [],
      "source": [
        "import matplotlib.pyplot as plt\n",
        "%matplotlib inline\n",
        "\n",
        "X = [ \"Mon\", \"Tue\", \"Wed\", \"Thur\", \"Fri\",  \"Sat\", \"Sun\" ]\n",
        "Y1 = [15.6, 14.2, 16.3, 18.2, 17.1, 20.2, 22.4]\n",
        "Y2 = [20.1, 23.1, 23.8, 25.9, 23.4, 25.1, 26.3]\n",
        "\n",
        "plt.plot(X, Y1, label=\"Seoul\")\t\t# 분리시켜서 그려도 됨\n",
        "plt.plot(X, Y2, label=\"Busan\")\t\t# 분리시켜서 그려도 됨\n",
        "plt.xlabel(\"day\")\n",
        "plt.ylabel(\"temperature\")\n",
        "plt.legend(loc=\"upper left\")\n",
        "plt.title(\"Temperatures of Cities\")\n",
        "plt.show()"
      ]
    },
    {
      "cell_type": "code",
      "source": [
        "import matplotlib.pyplot as plt\n",
        "\n",
        "plt.plot([1,1,1,1],linestyle='',color='b',marker='o',)\n",
        "plt.plot([2,2,2,2],linestyle='',color='r',marker='.')\n",
        "plt.plot([3,3,3,3],linestyle='',color='y',marker='v')\n",
        "plt.plot([4,4,4,4],linestyle='',color='k',marker='^')\n",
        "plt.plot([5,5,5,5],linestyle='',color='g',marker='s')\n",
        "plt.plot([6,6,6,6],color='blue',marker='P')\n",
        "plt.plot([7,7,7,7],color='red',marker='+')\n",
        "plt.plot([8,8,8,8],color='yellow',marker='x')\n",
        "plt.plot([9,9,9,9],color='black',marker='D')\n",
        "\n",
        "plt.show()"
      ],
      "metadata": {
        "id": "R85nB7lFt0xt"
      },
      "execution_count": null,
      "outputs": []
    },
    {
      "cell_type": "code",
      "execution_count": 22,
      "metadata": {
        "id": "l9O8QP13Lt6c",
        "outputId": "959a974d-39b3-40de-e144-57afa4ebf935",
        "colab": {
          "base_uri": "https://localhost:8080/",
          "height": 430
        }
      },
      "outputs": [
        {
          "output_type": "display_data",
          "data": {
            "text/plain": [
              "<Figure size 640x480 with 1 Axes>"
            ],
            "image/png": "[encoded data removed]"
          },
          "metadata": {}
        }
      ],
      "source": [
        "import matplotlib.pyplot as plt\n",
        "%matplotlib inline\n",
        "\n",
        "X = [ \"Mon\", \"Tue\", \"Wed\", \"Thur\", \"Fri\",  \"Sat\", \"Sun\" ]\n",
        "plt.plot(X, [15.6, 14.2, 16.3, 18.2, 17.1, 20.2, 22.4], \"sm\")\n",
        "plt.show()"
      ]
    },
    {
      "cell_type": "code",
      "execution_count": null,
      "metadata": {
        "id": "dx9mJc5YLt6d"
      },
      "outputs": [],
      "source": [
        "import matplotlib.pyplot as plt\n",
        "%matplotlib inline\n",
        "\n",
        "X = [ \"Mon\", \"Tue\", \"Wed\", \"Thur\", \"Fri\",  \"Sat\", \"Sun\" ]\n",
        "Y = [15.6, 14.2, 16.3, 18.2, 17.1, 20.2, 22.4]\n",
        "plt.bar(X, Y)\n",
        "plt.show()\n"
      ]
    },
    {
      "cell_type": "code",
      "execution_count": null,
      "metadata": {
        "id": "Oe9rbABvLt6d"
      },
      "outputs": [],
      "source": [
        "import matplotlib.pyplot as plt\n",
        "import numpy as np\n",
        "\n",
        "numbers = np.random.normal(size=10000)\n",
        "\n",
        "plt.hist(numbers)\n",
        "plt.xlabel(\"value\")\n",
        "plt.ylabel(\"freq\")\n",
        "plt.show()"
      ]
    },
    {
      "cell_type": "code",
      "execution_count": null,
      "metadata": {
        "id": "WIvGp3-CLt6d"
      },
      "outputs": [],
      "source": [
        "import matplotlib.pyplot as plt\n",
        "import numpy as np\n",
        "X = np.arange(0, 10)\n",
        "Y = X**2\n",
        "plt.plot(X, Y)\n",
        "plt.show()"
      ]
    },
    {
      "cell_type": "code",
      "execution_count": null,
      "metadata": {
        "id": "cAkgX-PaLt6d"
      },
      "outputs": [],
      "source": [
        "X = np.arange(0, 10)\n",
        "Y1 = np.ones(10)\n",
        "Y2 = X\n",
        "Y3 = X**2\n",
        "plt.plot(X, Y1, X, Y2, X, Y3)\n",
        "plt.show()"
      ]
    },
    {
      "cell_type": "code",
      "execution_count": 56,
      "metadata": {
        "id": "HKHhHupZLt6d",
        "outputId": "5d50bc50-4cbc-4789-cc57-676c00f238a4",
        "colab": {
          "base_uri": "https://localhost:8080/",
          "height": 449
        }
      },
      "outputs": [
        {
          "output_type": "display_data",
          "data": {
            "text/plain": [
              "<Figure size 640x480 with 1 Axes>"
            ],
            "image/png": "[encoded data removed]"
          },
          "metadata": {}
        }
      ],
      "source": [
        "import matplotlib.pyplot as plt\n",
        "import numpy as np\n",
        "import math\n",
        "\n",
        "X = np.linspace(-10, 10, 100)\n",
        "Y = 1/(1 + np.exp(-X))\n",
        "\n",
        "plt.plot(X, Y)\n",
        "plt.xlabel(\"x\")\n",
        "plt.ylabel(\"Sigmoid(X)\")\n",
        "plt.show()"
      ]
    },
    {
      "cell_type": "code",
      "execution_count": null,
      "metadata": {
        "id": "QFqzmFvULt6d"
      },
      "outputs": [],
      "source": [
        "import matplotlib.pyplot as plt\n",
        "import numpy as np\n",
        "\n",
        "def sigmoid(x):\n",
        "    s=1/(1+np.exp(-x))\n",
        "    ds=s*(1-s)  \t\t# 시그모이드 함수 1차 미분 함수\n",
        "    return s,ds\n",
        "\n",
        "X = np.linspace(-10, 10, 100)\n",
        "Y1, Y2 = sigmoid(X)\n",
        "\n",
        "plt.plot(X, Y1, X, Y2)\n",
        "plt.xlabel(\"x\")\n",
        "plt.ylabel(\"Sigmoid(X), Sigmoid'(X)\")\n",
        "plt.show()"
      ]
    },
    {
      "cell_type": "code",
      "execution_count": null,
      "metadata": {
        "id": "vBKA3EfCLt6d"
      },
      "outputs": [],
      "source": []
    }
  ],
  "metadata": {
    "kernelspec": {
      "display_name": "Python 3",
      "language": "python",
      "name": "python3"
    },
    "language_info": {
      "codemirror_mode": {
        "name": "ipython",
        "version": 3
      },
      "file_extension": ".py",
      "mimetype": "text/x-python",
      "name": "python",
      "nbconvert_exporter": "python",
      "pygments_lexer": "ipython3",
      "version": "3.8.5"
    },
    "colab": {
      "provenance": [],
      "include_colab_link": true
    }
  },
  "nbformat": 4,
  "nbformat_minor": 0
}
